{
 "cells": [
  {
   "cell_type": "code",
   "execution_count": 1,
   "metadata": {
    "id": "Pnd2OsZtCDL5"
   },
   "outputs": [],
   "source": [
    "import torch\n",
    "import torch.nn as nn\n",
    "import torch.optim as optim\n",
    "from torch.utils.data import DataLoader\n",
    "from torch.utils.data import sampler\n",
    "\n",
    "\n",
    "import torchvision.datasets as dset\n",
    "import torchvision.transforms as T\n",
    "\n",
    "import matplotlib.pyplot as plt\n",
    "\n",
    "import torch.nn.functional as F  # useful stateless functions\n",
    "\n",
    "import numpy as np\n",
    "from PIL import Image\n",
    "import os\n",
    "os.environ[\"KMP_DUPLICATE_LIB_OK\"]=\"TRUE\" # Solution for python kernel crashing in images visualization"
   ]
  },
  {
   "attachments": {},
   "cell_type": "markdown",
   "metadata": {},
   "source": [
    "#### Create my dataset for binary classification if a person is wearing or not shoes."
   ]
  },
  {
   "cell_type": "code",
   "execution_count": 2,
   "metadata": {},
   "outputs": [],
   "source": [
    "import os\n",
    "import pandas as pd\n",
    "from torch.utils.data import Dataset\n",
    "from torchvision.io import read_image\n",
    "\n",
    "class CustomImageDataset(Dataset):\n",
    "    def __init__(self, annotations_file, img_dir, transform=None, target_transform=None):\n",
    "        self.img_labels = pd.read_csv(annotations_file)\n",
    "        self.img_dir = img_dir\n",
    "        self.transform = transform\n",
    "        self.target_transform = target_transform\n",
    "\n",
    "    def __len__(self):\n",
    "        return len(self.img_labels)\n",
    "\n",
    "    def __getitem__(self, idx):\n",
    "        img_path = os.path.join(self.img_dir, self.img_labels.iloc[idx,0])\n",
    "        image = read_image(img_path)\n",
    "        label = self.img_labels.iloc[idx, 1]\n",
    "        if self.transform:\n",
    "            image = self.transform(image)\n",
    "        if self.target_transform:\n",
    "            label = self.target_transform(label)\n",
    "        return image, label"
   ]
  },
  {
   "cell_type": "code",
   "execution_count": 3,
   "metadata": {},
   "outputs": [],
   "source": [
    "# transform = T.Compose([\n",
    "#                 T.ToTensor(),\n",
    "#                 T.Normalize((0.4914, 0.4822, 0.4465), (0.2023, 0.1994, 0.2010))\n",
    "#             ])"
   ]
  },
  {
   "cell_type": "code",
   "execution_count": 4,
   "metadata": {},
   "outputs": [
    {
     "name": "stdout",
     "output_type": "stream",
     "text": [
      "9\n"
     ]
    }
   ],
   "source": [
    "image_folder = '../assets/datasets/stickler_for_the_rules_images'\n",
    "annotations_file = '../assets/datasets/annotations_file.csv'\n",
    "dataset = CustomImageDataset(annotations_file=annotations_file, img_dir=image_folder)\n",
    "from torch.utils.data import DataLoader\n",
    "print(len(dataset))\n",
    "\n",
    "train_dataloader = DataLoader(dataset, batch_size=10)"
   ]
  },
  {
   "cell_type": "code",
   "execution_count": 5,
   "metadata": {},
   "outputs": [
    {
     "name": "stdout",
     "output_type": "stream",
     "text": [
      "Feature batch shape: torch.Size([9, 3, 128, 128])\n",
      "Labels batch shape: torch.Size([9])\n",
      "Label: 1\n"
     ]
    }
   ],
   "source": [
    "train_features, train_labels = next(iter(train_dataloader))\n",
    "print(f\"Feature batch shape: {train_features.size()}\")\n",
    "print(f\"Labels batch shape: {train_labels.size()}\")\n",
    "img = train_features[0].squeeze()\n",
    "label = train_labels[8]\n",
    "# plt.imshow(img)\n",
    "# plt.show()\n",
    "print(f\"Label: {label}\")"
   ]
  },
  {
   "cell_type": "code",
   "execution_count": 6,
   "metadata": {
    "id": "ypi4DSSbCDL6",
    "scrolled": true
   },
   "outputs": [],
   "source": [
    "NUM_TRAIN = 49000\n",
    "\n",
    "# The torchvision.transforms package provides tools for preprocessing data\n",
    "# and for performing data augmentation; here we set up a transform to\n",
    "# preprocess the data by subtracting the mean RGB value and dividing by the\n",
    "# standard deviation of each RGB value; we've hardcoded the mean and std.\n",
    "transform = T.Compose([\n",
    "                T.ToTensor(),\n",
    "                T.Normalize((0.5,), (0.5,))\n",
    "            ])\n",
    "augmentation = T.Compose([\n",
    "                T.TrivialAugmentWide(num_magnitude_bins = 31, \\\n",
    "                                     interpolation=T.InterpolationMode.NEAREST),\n",
    "                T.ToTensor(),\n",
    "                T.ColorJitter(brightness=0.5, contrast=0.2, saturation=0.2),\n",
    "                T.RandomInvert(p=0.3),\n",
    "                T.RandomHorizontalFlip(p=0.4),\n",
    "                T.Normalize((0.5,), (0.5,))\n",
    "            ])\n",
    "\n",
    "# We set up a Dataset object for each split (train / val / test); Datasets load\n",
    "# training examples one at a time, so we wrap each Dataset in a DataLoader which\n",
    "# iterates through the Dataset and forms minibatches. We divide the CIFAR-10\n",
    "# training set into train and val sets by passing a Sampler object to the\n",
    "# DataLoader telling how it should sample from the underlying Dataset.\n",
    "fashionMNIST_train = dset.FashionMNIST('../assets/datasets', train=True, download=True,\n",
    "                             transform=augmentation)\n",
    "loader_train = DataLoader(fashionMNIST_train, batch_size=64, shuffle=True)\n",
    "\n",
    "fashionMNIST_val = dset.FashionMNIST('../assets/datasets', train=True, download=True,\n",
    "                           transform=transform)\n",
    "loader_val = DataLoader(fashionMNIST_val, batch_size=64, shuffle=False)\n",
    "\n",
    "fashionMNIST_test = dset.FashionMNIST('../assets/datasets', train=False, download=True, \n",
    "                            transform=transform)\n",
    "loader_test = DataLoader(fashionMNIST_test, batch_size=64)"
   ]
  },
  {
   "cell_type": "code",
   "execution_count": 7,
   "metadata": {},
   "outputs": [
    {
     "data": {
      "text/plain": [
       "{'root': '../assets/datasets',\n",
       " 'transform': Compose(\n",
       "     TrivialAugmentWide(num_magnitude_bins=31, interpolation=InterpolationMode.NEAREST, fill=None)\n",
       "     ToTensor()\n",
       "     ColorJitter(brightness=(0.5, 1.5), contrast=(0.8, 1.2), saturation=(0.8, 1.2), hue=None)\n",
       "     RandomInvert(p=0.3)\n",
       "     RandomHorizontalFlip(p=0.4)\n",
       "     Normalize(mean=(0.5,), std=(0.5,))\n",
       " ),\n",
       " 'target_transform': None,\n",
       " 'transforms': StandardTransform\n",
       " Transform: Compose(\n",
       "                TrivialAugmentWide(num_magnitude_bins=31, interpolation=InterpolationMode.NEAREST, fill=None)\n",
       "                ToTensor()\n",
       "                ColorJitter(brightness=(0.5, 1.5), contrast=(0.8, 1.2), saturation=(0.8, 1.2), hue=None)\n",
       "                RandomInvert(p=0.3)\n",
       "                RandomHorizontalFlip(p=0.4)\n",
       "                Normalize(mean=(0.5,), std=(0.5,))\n",
       "            ),\n",
       " 'train': True,\n",
       " 'data': tensor([[[0, 0, 0,  ..., 0, 0, 0],\n",
       "          [0, 0, 0,  ..., 0, 0, 0],\n",
       "          [0, 0, 0,  ..., 0, 0, 0],\n",
       "          ...,\n",
       "          [0, 0, 0,  ..., 0, 0, 0],\n",
       "          [0, 0, 0,  ..., 0, 0, 0],\n",
       "          [0, 0, 0,  ..., 0, 0, 0]],\n",
       " \n",
       "         [[0, 0, 0,  ..., 0, 0, 0],\n",
       "          [0, 0, 0,  ..., 0, 0, 0],\n",
       "          [0, 0, 0,  ..., 0, 0, 0],\n",
       "          ...,\n",
       "          [0, 0, 0,  ..., 0, 0, 0],\n",
       "          [0, 0, 0,  ..., 0, 0, 0],\n",
       "          [0, 0, 0,  ..., 0, 0, 0]],\n",
       " \n",
       "         [[0, 0, 0,  ..., 0, 0, 0],\n",
       "          [0, 0, 0,  ..., 0, 0, 0],\n",
       "          [0, 0, 0,  ..., 0, 0, 0],\n",
       "          ...,\n",
       "          [0, 0, 0,  ..., 0, 0, 0],\n",
       "          [0, 0, 0,  ..., 0, 0, 0],\n",
       "          [0, 0, 0,  ..., 0, 0, 0]],\n",
       " \n",
       "         ...,\n",
       " \n",
       "         [[0, 0, 0,  ..., 0, 0, 0],\n",
       "          [0, 0, 0,  ..., 0, 0, 0],\n",
       "          [0, 0, 0,  ..., 0, 0, 0],\n",
       "          ...,\n",
       "          [0, 0, 0,  ..., 0, 0, 0],\n",
       "          [0, 0, 0,  ..., 0, 0, 0],\n",
       "          [0, 0, 0,  ..., 0, 0, 0]],\n",
       " \n",
       "         [[0, 0, 0,  ..., 0, 0, 0],\n",
       "          [0, 0, 0,  ..., 0, 0, 0],\n",
       "          [0, 0, 0,  ..., 0, 0, 0],\n",
       "          ...,\n",
       "          [0, 0, 0,  ..., 0, 0, 0],\n",
       "          [0, 0, 0,  ..., 0, 0, 0],\n",
       "          [0, 0, 0,  ..., 0, 0, 0]],\n",
       " \n",
       "         [[0, 0, 0,  ..., 0, 0, 0],\n",
       "          [0, 0, 0,  ..., 0, 0, 0],\n",
       "          [0, 0, 0,  ..., 0, 0, 0],\n",
       "          ...,\n",
       "          [0, 0, 0,  ..., 0, 0, 0],\n",
       "          [0, 0, 0,  ..., 0, 0, 0],\n",
       "          [0, 0, 0,  ..., 0, 0, 0]]], dtype=torch.uint8),\n",
       " 'targets': tensor([9, 0, 0,  ..., 3, 0, 5])}"
      ]
     },
     "execution_count": 7,
     "metadata": {},
     "output_type": "execute_result"
    }
   ],
   "source": [
    "fashionMNIST_train.__dict__"
   ]
  },
  {
   "cell_type": "code",
   "execution_count": 8,
   "metadata": {},
   "outputs": [
    {
     "name": "stdout",
     "output_type": "stream",
     "text": [
      "torch.Size([60000, 28, 28])\n",
      "Dataset FashionMNIST\n",
      "    Number of datapoints: 60000\n",
      "    Root location: ../assets/datasets\n",
      "    Split: Train\n",
      "    StandardTransform\n",
      "Transform: Compose(\n",
      "               TrivialAugmentWide(num_magnitude_bins=31, interpolation=InterpolationMode.NEAREST, fill=None)\n",
      "               ToTensor()\n",
      "               ColorJitter(brightness=(0.5, 1.5), contrast=(0.8, 1.2), saturation=(0.8, 1.2), hue=None)\n",
      "               RandomInvert(p=0.3)\n",
      "               RandomHorizontalFlip(p=0.4)\n",
      "               Normalize(mean=(0.5,), std=(0.5,))\n",
      "           )\n"
     ]
    }
   ],
   "source": [
    "print(fashionMNIST_train.data.shape)\n",
    "print(loader_train.dataset)"
   ]
  },
  {
   "cell_type": "code",
   "execution_count": 9,
   "metadata": {},
   "outputs": [
    {
     "data": {
      "text/plain": [
       "torch.Size([28, 28])"
      ]
     },
     "execution_count": 9,
     "metadata": {},
     "output_type": "execute_result"
    }
   ],
   "source": [
    "fashionMNIST_train.data[0].shape"
   ]
  },
  {
   "cell_type": "code",
   "execution_count": 10,
   "metadata": {
    "id": "tjCXJ96CCDL6"
   },
   "outputs": [
    {
     "name": "stdout",
     "output_type": "stream",
     "text": [
      "Using device: cuda\n",
      "'cuda' means we are using GPU(s), 'cpu' means we are only using CPU.\n"
     ]
    }
   ],
   "source": [
    "USE_GPU = True\n",
    "\n",
    "dtype = torch.float32 # we will be using float throughout this tutorial\n",
    "\n",
    "if USE_GPU and torch.cuda.is_available():\n",
    "    device = torch.device('cuda')\n",
    "else:\n",
    "    device = torch.device('cpu')\n",
    "\n",
    "# Constant to control how frequently we print train loss\n",
    "print_every = 100\n",
    "\n",
    "print(f\"Using device: {device}\\n'cuda' means we are using GPU(s), 'cpu' means we are only using CPU.\")"
   ]
  },
  {
   "cell_type": "code",
   "execution_count": 11,
   "metadata": {},
   "outputs": [
    {
     "name": "stdout",
     "output_type": "stream",
     "text": [
      "Pytorch CUDA Version is  11.7\n"
     ]
    }
   ],
   "source": [
    "print('Pytorch CUDA Version is ', torch.version.cuda)"
   ]
  },
  {
   "cell_type": "code",
   "execution_count": 12,
   "metadata": {
    "id": "G-8W2C_SCDMD"
   },
   "outputs": [],
   "source": [
    "def check_accuracy_part34(loader, model):\n",
    "    if loader.dataset.train:\n",
    "        print('Checking accuracy on validation set')\n",
    "    else:\n",
    "        print('Checking accuracy on test set')   \n",
    "    num_correct = 0\n",
    "    num_samples = 0\n",
    "    model.eval()  # set model to evaluation mode\n",
    "    with torch.no_grad():\n",
    "        for x, y in loader:\n",
    "            x = x.to(device=device, dtype=dtype)  # move to device, e.g. GPU\n",
    "            y = y.to(device=device, dtype=torch.long)\n",
    "            scores = model(x)\n",
    "            loss = F.cross_entropy(scores, y)\n",
    "            _, preds = scores.max(1)\n",
    "            num_correct += (preds == y).sum()\n",
    "            num_samples += preds.size(0)\n",
    "        acc = float(num_correct) / num_samples\n",
    "        print('Got %d / %d correct (%.2f)' % (num_correct, num_samples, 100 * acc))\n",
    "    return loss.item(), acc"
   ]
  },
  {
   "cell_type": "code",
   "execution_count": 13,
   "metadata": {
    "id": "Tr7wwhwFCDME"
   },
   "outputs": [],
   "source": [
    "def train_part34(model, optimizer, epochs=1):\n",
    "    \"\"\"\n",
    "    Train a model on CIFAR-10 using the PyTorch Module API.\n",
    "    \n",
    "    Inputs:\n",
    "    - model: A PyTorch Module giving the model to train.\n",
    "    - optimizer: An Optimizer object we will use to train the model\n",
    "    - epochs: (Optional) A Python integer giving the number of epochs to train for\n",
    "    \n",
    "    Returns: Nothing, but prints model accuracies during training.\n",
    "    \"\"\"\n",
    "    loss_train = []\n",
    "    loss_val = []\n",
    "    accuracy_val = []\n",
    "    model = model.to(device=device)  # move the model parameters to CPU/GPU\n",
    "    for e in range(epochs):\n",
    "        print(f'================Epoch:{e+1} ===============')\n",
    "        for t, (x, y) in enumerate(loader_train):\n",
    "            model.train()  # put model to training mode\n",
    "            x = x.to(device=device, dtype=dtype)  # move to device, e.g. GPU\n",
    "            y = y.to(device=device, dtype=torch.long)\n",
    "\n",
    "            scores = model(x)\n",
    "            loss = F.cross_entropy(scores, y)\n",
    "\n",
    "            # Zero out all of the gradients for the variables which the optimizer\n",
    "            # will update.\n",
    "            optimizer.zero_grad()\n",
    "\n",
    "            # This is the backwards pass: compute the gradient of the loss with\n",
    "            # respect to each  parameter of the model.\n",
    "            loss.backward()\n",
    "\n",
    "            # Actually update the parameters of the model using the gradients\n",
    "            # computed by the backwards pass.\n",
    "            optimizer.step()\n",
    "\n",
    "            if t % print_every == 0:\n",
    "                print('Iteration %d, loss = %.4f' % (t, loss.item()))\n",
    "                loss_validation , val_accuracy = check_accuracy_part34(loader_val, model)\n",
    "                loss_train.append(loss.item())\n",
    "                accuracy_val.append(val_accuracy)\n",
    "                loss_val.append(loss_validation)\n",
    "                print()\n",
    "                \n",
    "                \n",
    "    return loss_train, accuracy_val, loss_val"
   ]
  },
  {
   "cell_type": "code",
   "execution_count": 14,
   "metadata": {
    "id": "KayFF7wnCDMG"
   },
   "outputs": [],
   "source": [
    "################################################################################\n",
    "# TODO:                                                                        #         \n",
    "# Experiment with any architectures, optimizers, and hyperparameters.          #\n",
    "# Achieve AT LEAST 70% accuracy on the *validation set* within 10 epochs.      #\n",
    "#                                                                              #\n",
    "# Note that you can use the check_accuracy function to evaluate on either      #\n",
    "# the test set or the validation set, by passing either loader_test or         #\n",
    "# loader_val as the second argument to check_accuracy. You should not touch    #\n",
    "# the test set until you have finished your architecture and hyperparameter    #\n",
    "# tuning, and only run the test set once at the end to report a final value.   #\n",
    "################################################################################\n",
    "\n",
    "############ VGG based ################\n",
    "class Model(nn.Module):\n",
    "    def __init__(self, in_channels, channel_1, channel_2, channel_3, \\\n",
    "                 node_1, node_2, num_classes):\n",
    "        super().__init__()\n",
    "        ####### Convolutional layers ######\n",
    "        self.conv1 = nn.Sequential(\n",
    "            nn.Conv2d(in_channels, channel_1, kernel_size=3, padding=1, stride=1),\n",
    "            nn.BatchNorm2d(channel_1),\n",
    "            nn.LeakyReLU(),\n",
    "            nn.Conv2d(channel_1, channel_1, kernel_size=3, padding=1, stride=1),\n",
    "            nn.BatchNorm2d(channel_1),\n",
    "            nn.LeakyReLU(),\n",
    "            nn.MaxPool2d(kernel_size=2, stride=2),\n",
    "        )\n",
    "        self.conv2 = nn.Sequential(\n",
    "            nn.Conv2d(channel_1, channel_2, kernel_size=3, padding=1, stride=1),\n",
    "            nn.BatchNorm2d(channel_2),\n",
    "            nn.LeakyReLU(),\n",
    "            nn.Conv2d(channel_2, channel_2, kernel_size=3, padding=1, stride=1),\n",
    "            nn.BatchNorm2d(channel_2),\n",
    "            nn.LeakyReLU(),\n",
    "            nn.MaxPool2d(kernel_size=2, stride=2),\n",
    "        )\n",
    "        self.conv3 = nn.Sequential(\n",
    "            nn.Conv2d(channel_2, channel_3, kernel_size=3, padding=1, stride=1),\n",
    "            nn.BatchNorm2d(channel_3),\n",
    "            nn.LeakyReLU(),\n",
    "            nn.Conv2d(channel_3, channel_3, kernel_size=3, padding=1, stride=1),\n",
    "            nn.BatchNorm2d(channel_3),\n",
    "            nn.LeakyReLU(),\n",
    "            nn.MaxPool2d(kernel_size=7, stride=2),\n",
    "        )\n",
    "        \n",
    "        ######## Affine layers ########\n",
    "        self.fc = nn.Sequential(\n",
    "            nn.Flatten(),\n",
    "            nn.Linear(channel_3, node_1),\n",
    "            nn.BatchNorm1d(node_1),\n",
    "            nn.Dropout(p=0.5),\n",
    "            \n",
    "            nn.Linear(node_1, node_2),\n",
    "            nn.BatchNorm1d(node_2),\n",
    "            \n",
    "            nn.Linear(node_2, num_classes)\n",
    "        )\n",
    "      \n",
    "        \n",
    "    def forward(self, x):\n",
    "        x = self.conv1(x)\n",
    "        x = self.conv2(x)\n",
    "        x = self.conv3(x)\n",
    "        \n",
    "        scores = self.fc(x)\n",
    "        return scores\n",
    "\n",
    "########## Initialization of Hyperparameters #########\n",
    "in_channel = 1\n",
    "channel_1 = 128\n",
    "channel_2 = 256\n",
    "channel_3 = 512\n",
    "node_1 = 1024\n",
    "node_2 = 1024\n",
    "num_classes = 10\n",
    "learning_rate = 3e-3\n",
    "\n",
    "model = Model(in_channel, channel_1, channel_2, channel_3, node_1, node_2, num_classes)\n",
    "optimizer = optim.SGD(model.parameters(), lr=learning_rate, momentum=0.9, nesterov=True)\n",
    "            \n",
    "        \n",
    "################################################################################\n",
    "#                                 END OF YOUR CODE                             \n",
    "################################################################################\n",
    "\n",
    "# You should get at least 70% accuracy\n",
    "# loss_train, accuracy_val, loss_val = train_part34(model, optimizer, epochs=5)"
   ]
  },
  {
   "cell_type": "code",
   "execution_count": null,
   "metadata": {},
   "outputs": [],
   "source": [
    "# from pytorch_model_summary import summary\n",
    "# print(summary(model.to('cpu'), torch.zeros((1, 3, 32, 32))))"
   ]
  },
  {
   "cell_type": "code",
   "execution_count": 53,
   "metadata": {},
   "outputs": [
    {
     "data": {
      "text/plain": [
       "My_VGG(\n",
       "  (conv1): Sequential(\n",
       "    (0): Conv2d(1, 128, kernel_size=(3, 3), stride=(1, 1), padding=(1, 1))\n",
       "    (1): BatchNorm2d(128, eps=1e-05, momentum=0.1, affine=True, track_running_stats=True)\n",
       "    (2): LeakyReLU(negative_slope=0.01)\n",
       "    (3): Conv2d(128, 128, kernel_size=(3, 3), stride=(1, 1), padding=(1, 1))\n",
       "    (4): BatchNorm2d(128, eps=1e-05, momentum=0.1, affine=True, track_running_stats=True)\n",
       "    (5): LeakyReLU(negative_slope=0.01)\n",
       "    (6): MaxPool2d(kernel_size=2, stride=2, padding=0, dilation=1, ceil_mode=False)\n",
       "  )\n",
       "  (conv2): Sequential(\n",
       "    (0): Conv2d(128, 256, kernel_size=(3, 3), stride=(1, 1), padding=(1, 1))\n",
       "    (1): BatchNorm2d(256, eps=1e-05, momentum=0.1, affine=True, track_running_stats=True)\n",
       "    (2): LeakyReLU(negative_slope=0.01)\n",
       "    (3): Conv2d(256, 256, kernel_size=(3, 3), stride=(1, 1), padding=(1, 1))\n",
       "    (4): BatchNorm2d(256, eps=1e-05, momentum=0.1, affine=True, track_running_stats=True)\n",
       "    (5): LeakyReLU(negative_slope=0.01)\n",
       "    (6): MaxPool2d(kernel_size=2, stride=2, padding=0, dilation=1, ceil_mode=False)\n",
       "  )\n",
       "  (conv3): Sequential(\n",
       "    (0): Conv2d(256, 512, kernel_size=(3, 3), stride=(1, 1), padding=(1, 1))\n",
       "    (1): BatchNorm2d(512, eps=1e-05, momentum=0.1, affine=True, track_running_stats=True)\n",
       "    (2): LeakyReLU(negative_slope=0.01)\n",
       "    (3): Conv2d(512, 512, kernel_size=(3, 3), stride=(1, 1), padding=(1, 1))\n",
       "    (4): BatchNorm2d(512, eps=1e-05, momentum=0.1, affine=True, track_running_stats=True)\n",
       "    (5): LeakyReLU(negative_slope=0.01)\n",
       "    (6): MaxPool2d(kernel_size=7, stride=2, padding=0, dilation=1, ceil_mode=False)\n",
       "  )\n",
       "  (fc): Sequential(\n",
       "    (0): Flatten(start_dim=1, end_dim=-1)\n",
       "    (1): Linear(in_features=512, out_features=1024, bias=True)\n",
       "    (2): BatchNorm1d(1024, eps=1e-05, momentum=0.1, affine=True, track_running_stats=True)\n",
       "    (3): Dropout(p=0.5, inplace=False)\n",
       "    (4): Linear(in_features=1024, out_features=1024, bias=True)\n",
       "    (5): BatchNorm1d(1024, eps=1e-05, momentum=0.1, affine=True, track_running_stats=True)\n",
       "    (6): Linear(in_features=1024, out_features=10, bias=True)\n",
       "  )\n",
       ")"
      ]
     },
     "execution_count": 53,
     "metadata": {},
     "output_type": "execute_result"
    }
   ],
   "source": [
    "PATH = 'models_classification/fashionMNIST_MyVGG_3lr_128ch1_augmentation.pth'\n",
    "torch.save(model.state_dict(), PATH)\n",
    "model.to(device=device)"
   ]
  },
  {
   "cell_type": "code",
   "execution_count": 15,
   "metadata": {
    "id": "XtlTfTBeCDMI"
   },
   "outputs": [
    {
     "name": "stdout",
     "output_type": "stream",
     "text": [
      "Checking accuracy on test set\n",
      "Got 8884 / 10000 correct (88.84)\n"
     ]
    },
    {
     "data": {
      "text/plain": [
       "{'T-shirt/top': 0,\n",
       " 'Trouser': 1,\n",
       " 'Pullover': 2,\n",
       " 'Dress': 3,\n",
       " 'Coat': 4,\n",
       " 'Sandal': 5,\n",
       " 'Shirt': 6,\n",
       " 'Sneaker': 7,\n",
       " 'Bag': 8,\n",
       " 'Ankle boot': 9}"
      ]
     },
     "execution_count": 15,
     "metadata": {},
     "output_type": "execute_result"
    }
   ],
   "source": [
    "PATH = '../models_classification/fashionMNIST_MyVGG_3lr_128ch1_augmentation.pth'\n",
    "model.load_state_dict(torch.load(PATH))\n",
    "model.to(device=device)\n",
    "# HINT:\n",
    "# When visualizing results, remember that we normalized the data previously.\n",
    "# You can undo this normalization with the inverse of the applied transform:\n",
    "inv_trans =  T.Compose([\n",
    "             T.Normalize((-0.5 / 0.5,), (1.0 / 0.5,))])\n",
    "\n",
    "################################################################################\n",
    "# TODO: Write the code that provides your test score (should be 1 line)        #\n",
    "################################################################################\n",
    "VGG_accuracy = check_accuracy_part34(loader_test, model)\n",
    "################################################################################\n",
    "#                                 END OF YOUR CODE                             \n",
    "################################################################################\n",
    "fashionMNIST_test.class_to_idx"
   ]
  },
  {
   "cell_type": "code",
   "execution_count": 16,
   "metadata": {},
   "outputs": [],
   "source": [
    "def show_prediction(loader, model, num_correct , num_incorrect, shuffle_order=False):\n",
    "    ############# Prediction and test ##############\n",
    "    correctx = []\n",
    "    correcty = []\n",
    "    incorrectx = []\n",
    "    incorrecty = []\n",
    "    incorrectlabel = []\n",
    "    model.eval()  # set model to evaluation mode\n",
    "    with torch.no_grad():\n",
    "        for x, y in loader:\n",
    "            x = x.to(device=device, dtype=dtype)  # move to device, e.g. GPU\n",
    "            y = y.to(device=device, dtype=torch.long)\n",
    "            scores = model(x)\n",
    "            _, preds = scores.max(1)\n",
    "            for img, label, predict in zip(x,y,preds):\n",
    "                img = inv_trans(img).cpu()\n",
    "                if (predict==label):\n",
    "                    correctx.append(img)\n",
    "                    correcty.append(label)\n",
    "                else:\n",
    "                    incorrectx.append(img)\n",
    "                    incorrecty.append(label)\n",
    "                    incorrectlabel.append(predict)   \n",
    "    \n",
    "    ############### Visualization ###################\n",
    "    print('Visualization of the model predictions on the test set')\n",
    "    if shuffle_order == True:\n",
    "        idx_correct = [random.randint(0,len(correctx)) for i in range(num_correct)]\n",
    "        idx_incorrect = [random.randint(0,len(incorrectx)) for i in range(num_incorrect)]\n",
    "    else:\n",
    "        idx_correct = np.arange(0,1,num_correct)\n",
    "        idx_incorrect = np.arange(0,1,num_incorrect)\n",
    "        \n",
    "    plt.figure(figsize=(15,6), linewidth=10, edgecolor='green')\n",
    "    for i in range(num_correct):\n",
    "        plt.subplot(2,int(num_correct//2),i+1)\n",
    "        image = correctx[idx_correct[i]].permute(1,2,0)\n",
    "        plt.imshow(image)\n",
    "        plt.xlabel('Correct: '+class_dictionary[correcty[idx_correct[i]]])\n",
    "        \n",
    "    plt.figure(figsize=(15,7), linewidth=10, edgecolor='red')\n",
    "    for j in range(num_incorrect):\n",
    "        plt.subplot(2,int(num_incorrect)//2,j+1)\n",
    "        image = incorrectx[idx_incorrect[j]].permute(1,2,0)\n",
    "        plt.imshow(image)\n",
    "        plt.xlabel('True: '+ class_dictionary[incorrecty[idx_incorrect[j]]]+' \\n'+\n",
    "                   'Incorrect: '+ class_dictionary[incorrectlabel[idx_incorrect[j]]])\n",
    "    return incorrectlabel"
   ]
  },
  {
   "cell_type": "code",
   "execution_count": 17,
   "metadata": {},
   "outputs": [
    {
     "name": "stdout",
     "output_type": "stream",
     "text": [
      "Visualization of the model predictions on the test set\n"
     ]
    },
    {
     "data": {
      "image/png": "[encoded data removed]",
      "text/plain": [
       "<Figure size 1080x432 with 10 Axes>"
      ]
     },
     "metadata": {
      "needs_background": "light"
     },
     "output_type": "display_data"
    },
    {
     "data": {
      "image/png": "[encoded data removed]",
      "text/plain": [
       "<Figure size 1080x504 with 10 Axes>"
      ]
     },
     "metadata": {
      "needs_background": "light"
     },
     "output_type": "display_data"
    }
   ],
   "source": [
    "import random\n",
    "class_dictionary = ['T-shirt/top', 'Trouser', 'Pullover', 'Dress', 'Coat', \n",
    "                    'Sandal', 'Shirt', 'Sneaker', 'Bag', 'Ankle boot']\n",
    "model.to(device=device)\n",
    "incorrectlabel = show_prediction(loader_test,model, num_correct=10, num_incorrect=10, shuffle_order=True)"
   ]
  },
  {
   "cell_type": "code",
   "execution_count": 18,
   "metadata": {},
   "outputs": [
    {
     "data": {
      "text/plain": [
       "Text(0.5, 1.0, 'Incorrect classification')"
      ]
     },
     "execution_count": 18,
     "metadata": {},
     "output_type": "execute_result"
    },
    {
     "data": {
      "image/png": "[encoded data removed]",
      "text/plain": [
       "<Figure size 1080x432 with 1 Axes>"
      ]
     },
     "metadata": {
      "needs_background": "light"
     },
     "output_type": "display_data"
    }
   ],
   "source": [
    "plt.figure(figsize=(15,6))\n",
    "error_class = []\n",
    "[error_class.append(incorrectlabel.count(i)) for i in range(10)]\n",
    "plt.bar(class_dictionary,error_class, color=['red'])\n",
    "plt.title('')\n",
    "plt.xlabel('Classes')\n",
    "plt.ylabel('Number of entities')\n",
    "plt.title('Incorrect classification')"
   ]
  },
  {
   "cell_type": "code",
   "execution_count": 20,
   "metadata": {},
   "outputs": [],
   "source": [
    "# Python Image Library (PIL) with python interpreter for image editing.\n",
    "# Resize image.png from _x_ to 28x28.\n",
    "# Run to edit dimensions of your image\n",
    "import os\n",
    "from PIL import Image\n",
    "for image_file_name in os.listdir('..//assets//datasets//stickler_for_the_rules_images//'):\n",
    "    if image_file_name.endswith(\".jpg\"):\n",
    "        im = Image.open('..//assets//datasets//stickler_for_the_rules_images//'+image_file_name)\n",
    "        new_width  = 128\n",
    "        new_height = 128\n",
    "        im = im.resize((new_width, new_height))\n",
    "        im.save('..//assets//datasets//stickler_for_the_rules_images//' + image_file_name)"
   ]
  },
  {
   "cell_type": "code",
   "execution_count": 21,
   "metadata": {},
   "outputs": [
    {
     "data": {
      "image/png": "[encoded data removed]",
      "text/plain": [
       "<Figure size 1080x432 with 1 Axes>"
      ]
     },
     "metadata": {
      "needs_background": "light"
     },
     "output_type": "display_data"
    }
   ],
   "source": [
    "import cv2 \n",
    "# Cat is number 3 label\n",
    "True_label = 5 ### Change here the label of your image {'Sandal': 5,'Sneaker': 7,'Ankle boot': 9}\n",
    "# Open an image by using OpenCV\n",
    "img = cv2.imread(\"../myImages/sandals.jpg\")\n",
    "# Converting BGR color to GRAY color format\n",
    "# RGB_img = cv2.cvtColor(img, cv2.COLOR_BGR2RGB)\n",
    "RGB_img = cv2.cvtColor(img, cv2.COLOR_BGR2GRAY)\n",
    "\n",
    "\n",
    "# Change to Tensor and normalize data\n",
    "img_aug = transform(RGB_img)\n",
    "x = img_aug.to(device=device, dtype=dtype)\n",
    "# Batch size\n",
    "scores = model(x.unsqueeze(0))\n",
    "_, preds = scores.max(1)\n",
    "\n",
    "# Visualization\n",
    "image_example = np.transpose(inv_trans(img_aug), (1, 2, 0))\n",
    "if preds == True_label:\n",
    "    plt.figure(figsize=(15,6), linewidth=10, edgecolor='green')\n",
    "    plt.imshow(image_example)\n",
    "    plt.xlabel('Correct: '+class_dictionary[preds])\n",
    "else:\n",
    "    plt.figure(figsize=(15,6), linewidth=10, edgecolor='red')\n",
    "    plt.imshow(image_example)\n",
    "    plt.xlabel('True: '+ class_dictionary[True_label]+' \\n'+\n",
    "                   'Incorrect: '+ class_dictionary[preds])"
   ]
  },
  {
   "cell_type": "code",
   "execution_count": null,
   "metadata": {},
   "outputs": [],
   "source": []
  }
 ],
 "metadata": {
  "accelerator": "GPU",
  "colab": {
   "provenance": []
  },
  "gpuClass": "standard",
  "kernelspec": {
   "display_name": "Python 3 (ipykernel)",
   "language": "python",
   "name": "python3"
  },
  "language_info": {
   "codemirror_mode": {
    "name": "ipython",
    "version": 3
   },
   "file_extension": ".py",
   "mimetype": "text/x-python",
   "name": "python",
   "nbconvert_exporter": "python",
   "pygments_lexer": "ipython3",
   "version": "3.8.12"
  }
 },
 "nbformat": 4,
 "nbformat_minor": 1
}
